{
 "cells": [
  {
   "cell_type": "markdown",
   "metadata": {},
   "source": [
    "<strong><h1>Évaluations de Performance et d'Implication des Employés</h1></strong>\n",
    "\n",
    "  <p>Ce notebook a pour objectif d'explorer en profondeur la base de données intitulée \"manager_survey_data.csv\", qui consigne les évaluations les plus récentes effectuées par les managers pour chaque employé en février 2015. Les données capturées incluent l'identifiant unique de chaque employé (EmployeeID), l'évaluation de son implication dans le travail (JobInvolvement), et l'évaluation de son niveau de performance annuel pour l'entreprise (PerformanceRating).</p>\n",
    "  \n",
    "  <h2>Objectif</h2>\n",
    "\n",
    "  <p>Cette base de données recueille les évaluations les plus récentes réalisées par les managers pour chaque employé en février 2015. Les évaluations portent sur l'aspect clés tauxEvaluation.</p>\n",
    "\n",
    "  <h2>Description des données</h2>\n",
    "\n",
    "  <p>La base de données \"Dernière Évaluation du Manager (Février 2015)\" comprend trois principales catégories d'informations. Tout d'abord, l'EmployeeID représente l'identifiant numérique unique attribué à chaque employé au sein de l'organisation. Ensuite, la variable JobInvolvement est catégorique, évaluant l'implication de l'employé dans son travail avec des niveaux allant de \"Faible\" à \"Très Importante,\" notés de 1 à 4. De même, la dimension PerformanceRating offre une évaluation catégorique du niveau de performance annuel de l'employé, avec des notations de \"Faible\" à \"Au-delà des Attentes,\" également notées de 1 à 4. Ces données, datant de février 2015, constituent une ressource cruciale pour analyser et comprendre les dimensions clés de la contribution des employés, facilitant ainsi des décisions informées en matière de gestion des ressources humaines et de développement professionnel au sein de l'entreprise.</p>"
   ]
  },
  {
   "cell_type": "markdown",
   "metadata": {},
   "source": [
    "### **Import des bibliothèques**"
   ]
  },
  {
   "cell_type": "code",
   "execution_count": null,
   "metadata": {},
   "outputs": [],
   "source": [
    "import pandas as pd\n",
    "from work_tools import * # Ici se trouvent nos propres fonctions"
   ]
  },
  {
   "cell_type": "markdown",
   "metadata": {},
   "source": [
    "### **Import et Consult des Fichiers**"
   ]
  },
  {
   "cell_type": "code",
   "execution_count": 2,
   "metadata": {},
   "outputs": [],
   "source": [
    "# Charger les données depuis le fichier CSV 'manager_survey_data.csv'\n",
    "manager_survey = pd.read_csv('./manager_survey_data.csv')"
   ]
  },
  {
   "cell_type": "code",
   "execution_count": 3,
   "metadata": {},
   "outputs": [
    {
     "data": {
      "text/html": [
       "<div>\n",
       "<style scoped>\n",
       "    .dataframe tbody tr th:only-of-type {\n",
       "        vertical-align: middle;\n",
       "    }\n",
       "\n",
       "    .dataframe tbody tr th {\n",
       "        vertical-align: top;\n",
       "    }\n",
       "\n",
       "    .dataframe thead th {\n",
       "        text-align: right;\n",
       "    }\n",
       "</style>\n",
       "<table border=\"1\" class=\"dataframe\">\n",
       "  <thead>\n",
       "    <tr style=\"text-align: right;\">\n",
       "      <th></th>\n",
       "      <th>EmployeeID</th>\n",
       "      <th>JobInvolvement</th>\n",
       "      <th>PerformanceRating</th>\n",
       "    </tr>\n",
       "  </thead>\n",
       "  <tbody>\n",
       "    <tr>\n",
       "      <th>0</th>\n",
       "      <td>1</td>\n",
       "      <td>3</td>\n",
       "      <td>3</td>\n",
       "    </tr>\n",
       "    <tr>\n",
       "      <th>1</th>\n",
       "      <td>2</td>\n",
       "      <td>2</td>\n",
       "      <td>4</td>\n",
       "    </tr>\n",
       "    <tr>\n",
       "      <th>2</th>\n",
       "      <td>3</td>\n",
       "      <td>3</td>\n",
       "      <td>3</td>\n",
       "    </tr>\n",
       "    <tr>\n",
       "      <th>3</th>\n",
       "      <td>4</td>\n",
       "      <td>2</td>\n",
       "      <td>3</td>\n",
       "    </tr>\n",
       "    <tr>\n",
       "      <th>4</th>\n",
       "      <td>5</td>\n",
       "      <td>3</td>\n",
       "      <td>3</td>\n",
       "    </tr>\n",
       "    <tr>\n",
       "      <th>5</th>\n",
       "      <td>6</td>\n",
       "      <td>3</td>\n",
       "      <td>3</td>\n",
       "    </tr>\n",
       "    <tr>\n",
       "      <th>6</th>\n",
       "      <td>7</td>\n",
       "      <td>3</td>\n",
       "      <td>4</td>\n",
       "    </tr>\n",
       "    <tr>\n",
       "      <th>7</th>\n",
       "      <td>8</td>\n",
       "      <td>3</td>\n",
       "      <td>4</td>\n",
       "    </tr>\n",
       "    <tr>\n",
       "      <th>8</th>\n",
       "      <td>9</td>\n",
       "      <td>3</td>\n",
       "      <td>4</td>\n",
       "    </tr>\n",
       "    <tr>\n",
       "      <th>9</th>\n",
       "      <td>10</td>\n",
       "      <td>3</td>\n",
       "      <td>3</td>\n",
       "    </tr>\n",
       "  </tbody>\n",
       "</table>\n",
       "</div>"
      ],
      "text/plain": [
       "   EmployeeID  JobInvolvement  PerformanceRating\n",
       "0           1               3                  3\n",
       "1           2               2                  4\n",
       "2           3               3                  3\n",
       "3           4               2                  3\n",
       "4           5               3                  3\n",
       "5           6               3                  3\n",
       "6           7               3                  4\n",
       "7           8               3                  4\n",
       "8           9               3                  4\n",
       "9          10               3                  3"
      ]
     },
     "execution_count": 3,
     "metadata": {},
     "output_type": "execute_result"
    }
   ],
   "source": [
    "# Afficher les dix premières lignes du DataFrame 'manager_survey'\n",
    "manager_survey.head(10)"
   ]
  },
  {
   "cell_type": "code",
   "execution_count": 4,
   "metadata": {},
   "outputs": [
    {
     "data": {
      "text/plain": [
       "(4410, 3)"
      ]
     },
     "execution_count": 4,
     "metadata": {},
     "output_type": "execute_result"
    }
   ],
   "source": [
    "# Afficher les dimensions du DataFrame 'manager_survey' (nombre de lignes et de colonnes)\n",
    "\n",
    "manager_survey.shape"
   ]
  },
  {
   "cell_type": "markdown",
   "metadata": {},
   "source": [
    "  <p>Les dimensions (shape) (4410, 3), représentent le nombre de lignes et de colonnes du DataFrame. En particulier :</p>\n",
    "\n",
    "  <ul>\n",
    "    <li>Pour le DataFrame 'manager_survey': Il comporte également 4410 lignes et 3 colonnes.</li>\n",
    "  </ul>\n",
    "\n",
    "  <p>Ces nombres indiquent que chaque DataFrame contient 4410 enregistrements (entrées ou observations) et 3 variables (attributs ou colonnes).</p>"
   ]
  },
  {
   "cell_type": "code",
   "execution_count": 5,
   "metadata": {},
   "outputs": [
    {
     "name": "stdout",
     "output_type": "stream",
     "text": [
      "<class 'pandas.core.frame.DataFrame'>\n",
      "RangeIndex: 4410 entries, 0 to 4409\n",
      "Data columns (total 3 columns):\n",
      " #   Column             Non-Null Count  Dtype\n",
      "---  ------             --------------  -----\n",
      " 0   EmployeeID         4410 non-null   int64\n",
      " 1   JobInvolvement     4410 non-null   int64\n",
      " 2   PerformanceRating  4410 non-null   int64\n",
      "dtypes: int64(3)\n",
      "memory usage: 103.5 KB\n"
     ]
    }
   ],
   "source": [
    "# Affiche des informations essentielles sur la structure et les types de données dans la base de données\n",
    "# Cela inclut le nombre total d'entrées, les types de données de chaque colonne .\n",
    "manager_survey.info()"
   ]
  },
  {
   "cell_type": "code",
   "execution_count": 6,
   "metadata": {},
   "outputs": [
    {
     "data": {
      "text/html": [
       "<div>\n",
       "<style scoped>\n",
       "    .dataframe tbody tr th:only-of-type {\n",
       "        vertical-align: middle;\n",
       "    }\n",
       "\n",
       "    .dataframe tbody tr th {\n",
       "        vertical-align: top;\n",
       "    }\n",
       "\n",
       "    .dataframe thead th {\n",
       "        text-align: right;\n",
       "    }\n",
       "</style>\n",
       "<table border=\"1\" class=\"dataframe\">\n",
       "  <thead>\n",
       "    <tr style=\"text-align: right;\">\n",
       "      <th></th>\n",
       "      <th>count</th>\n",
       "      <th>mean</th>\n",
       "      <th>std</th>\n",
       "      <th>min</th>\n",
       "      <th>25%</th>\n",
       "      <th>50%</th>\n",
       "      <th>75%</th>\n",
       "      <th>max</th>\n",
       "    </tr>\n",
       "  </thead>\n",
       "  <tbody>\n",
       "    <tr>\n",
       "      <th>EmployeeID</th>\n",
       "      <td>4410.0</td>\n",
       "      <td>2205.500000</td>\n",
       "      <td>1273.201673</td>\n",
       "      <td>1.0</td>\n",
       "      <td>1103.25</td>\n",
       "      <td>2205.5</td>\n",
       "      <td>3307.75</td>\n",
       "      <td>4410.0</td>\n",
       "    </tr>\n",
       "    <tr>\n",
       "      <th>JobInvolvement</th>\n",
       "      <td>4410.0</td>\n",
       "      <td>2.729932</td>\n",
       "      <td>0.711400</td>\n",
       "      <td>1.0</td>\n",
       "      <td>2.00</td>\n",
       "      <td>3.0</td>\n",
       "      <td>3.00</td>\n",
       "      <td>4.0</td>\n",
       "    </tr>\n",
       "    <tr>\n",
       "      <th>PerformanceRating</th>\n",
       "      <td>4410.0</td>\n",
       "      <td>3.153741</td>\n",
       "      <td>0.360742</td>\n",
       "      <td>3.0</td>\n",
       "      <td>3.00</td>\n",
       "      <td>3.0</td>\n",
       "      <td>3.00</td>\n",
       "      <td>4.0</td>\n",
       "    </tr>\n",
       "  </tbody>\n",
       "</table>\n",
       "</div>"
      ],
      "text/plain": [
       "                    count         mean          std  min      25%     50%  \\\n",
       "EmployeeID         4410.0  2205.500000  1273.201673  1.0  1103.25  2205.5   \n",
       "JobInvolvement     4410.0     2.729932     0.711400  1.0     2.00     3.0   \n",
       "PerformanceRating  4410.0     3.153741     0.360742  3.0     3.00     3.0   \n",
       "\n",
       "                       75%     max  \n",
       "EmployeeID         3307.75  4410.0  \n",
       "JobInvolvement        3.00     4.0  \n",
       "PerformanceRating     3.00     4.0  "
      ]
     },
     "execution_count": 6,
     "metadata": {},
     "output_type": "execute_result"
    }
   ],
   "source": [
    "# Génère un résumé statistique des variables numériques de la base de données\n",
    "# La transposition (T) est utilisée pour afficher les statistiques par colonne plutôt que par ligne.\n",
    "# Cela inclut la moyenne, l'écart-type, les valeurs minimum et maximum, ainsi que les quartiles.\n",
    "manager_survey.describe().T"
   ]
  },
  {
   "cell_type": "markdown",
   "metadata": {},
   "source": [
    "Vérification des Valeurs Nulles dans les Colonnes à Manipuler"
   ]
  },
  {
   "cell_type": "code",
   "execution_count": 7,
   "metadata": {},
   "outputs": [
    {
     "data": {
      "text/plain": [
       "EmployeeID           0\n",
       "JobInvolvement       0\n",
       "PerformanceRating    0\n",
       "dtype: int64"
      ]
     },
     "execution_count": 7,
     "metadata": {},
     "output_type": "execute_result"
    }
   ],
   "source": [
    "# Afficher le nombre de valeurs nulles par colonne dans le DataFrame 'manager_survey'\n",
    "\n",
    "manager_survey.isna().sum()"
   ]
  },
  {
   "cell_type": "markdown",
   "metadata": {},
   "source": [
    "Super! Aucune valeur nulle existe dans la dataset"
   ]
  },
  {
   "cell_type": "code",
   "execution_count": 8,
   "metadata": {},
   "outputs": [
    {
     "name": "stdout",
     "output_type": "stream",
     "text": [
      "Empty DataFrame\n",
      "Columns: [EmployeeID, JobInvolvement, PerformanceRating]\n",
      "Index: []\n",
      "Number of duplicates: 0\n",
      "The DataFrame does not contain duplicates.\n"
     ]
    }
   ],
   "source": [
    "# La fonction check_for_duplicates est  définie  dans le fichier work_tools.py et elle devrait effectuer une vérification des doublons dans le DataFrame manager_survey.\n",
    "check_for_duplicates(manager_survey)"
   ]
  },
  {
   "cell_type": "markdown",
   "metadata": {},
   "source": [
    "#### **Visualisation des données**"
   ]
  },
  {
   "cell_type": "code",
   "execution_count": 11,
   "metadata": {},
   "outputs": [
    {
     "data": {
      "image/png": "[encoded data removed]",
      "text/plain": [
       "<Figure size 1500x500 with 2 Axes>"
      ]
     },
     "metadata": {},
     "output_type": "display_data"
    }
   ],
   "source": [
    "# Utilise la fonction visualize_outliers pour générer des visualisations graphiques des éventuels outliers\n",
    "# dans les variables à partir de la deuxième colonne (index 1) de la base de données.\n",
    "visualize_outliers(manager_survey.iloc[:,1:])"
   ]
  },
  {
   "cell_type": "markdown",
   "metadata": {},
   "source": [
    "==> le résultat de visualize_outliers(manager_survey.iloc[:, 1:]) ne montre pas de points ou de valeurs aberrantes (outliers), cela indique que, visuellement, il n'y a pas de points qui se démarquent de manière significative par rapport au reste des données dans les variables analysées"
   ]
  },
  {
   "cell_type": "code",
   "execution_count": 12,
   "metadata": {},
   "outputs": [
    {
     "name": "stdout",
     "output_type": "stream",
     "text": [
      "Potential Outliers in EmployeeID: 0\n",
      "Series([], Name: EmployeeID, dtype: int64)\n",
      "Potential Outliers in JobInvolvement: 0\n",
      "Series([], Name: JobInvolvement, dtype: int64)\n",
      "Potential Outliers in PerformanceRating: 0\n",
      "Series([], Name: PerformanceRating, dtype: int64)\n"
     ]
    }
   ],
   "source": [
    "# Applique la fonction z_scores pour calculer les scores Z (z-scores) des variables numériques dans la base de données.\n",
    "# La boucle for parcourt chaque colonne à partir de la deuxième (index 1) jusqu'à la fin des colonnes.\n",
    "for col in manager_survey[1:]:\n",
    "    z_scores(manager_survey,col)"
   ]
  },
  {
   "cell_type": "markdown",
   "metadata": {},
   "source": [
    "* Cette opération génère les scores Z, qui sont des mesures standardisées de la déviation d'une valeur par rapport à la moyenne, facilitant ainsi la détection des valeurs aberrantes. Cela rend le code plus compréhensible et souligne le but de cette étape dans le processus d'analyse des données.\n",
    "\n",
    "==>  les résultats indiquent une absence d'outliers dans les variables analysées. Cela suggère que les données sont relativement homogènes, sans valeurs extrêmes, ce qui peut être rassurant lors de l'analyse des performances et de l'implication des employés. Il est important de noter que la détection d'outliers dépend souvent de seuils spécifiques, et l'absence d'outliers peut également être une caractéristique des données."
   ]
  },
  {
   "cell_type": "code",
   "execution_count": 13,
   "metadata": {},
   "outputs": [
    {
     "data": {
      "image/png": "[encoded data removed]",
      "text/plain": [
       "<Figure size 1500x500 with 2 Axes>"
      ]
     },
     "metadata": {},
     "output_type": "display_data"
    }
   ],
   "source": [
    "# Utilise la fonction visualize_frequency pour générer des diagrammes de fréquence des variables à partir de la deuxième colonne (index 1) de la base de données.\n",
    "\n",
    "visualize_frequency(manager_survey,manager_survey.columns[1:])"
   ]
  },
  {
   "cell_type": "markdown",
   "metadata": {},
   "source": [
    "==> Le résultat de la visualisation de fréquence pour les variables JobInvolvement (implication dans le travail) et PerformanceRating (niveau de performance annuel) donne une idée du nombre d'occurrences de chaque évaluation respective. Cela permet d'observer la distribution de ces évaluations au sein de la population d'employés."
   ]
  },
  {
   "cell_type": "code",
   "execution_count": 14,
   "metadata": {},
   "outputs": [
    {
     "data": {
      "text/html": [
       "<div>\n",
       "<style scoped>\n",
       "    .dataframe tbody tr th:only-of-type {\n",
       "        vertical-align: middle;\n",
       "    }\n",
       "\n",
       "    .dataframe tbody tr th {\n",
       "        vertical-align: top;\n",
       "    }\n",
       "\n",
       "    .dataframe thead th {\n",
       "        text-align: right;\n",
       "    }\n",
       "</style>\n",
       "<table border=\"1\" class=\"dataframe\">\n",
       "  <thead>\n",
       "    <tr style=\"text-align: right;\">\n",
       "      <th></th>\n",
       "      <th>EmployeeID</th>\n",
       "      <th>JobInvolvement</th>\n",
       "      <th>PerformanceRating</th>\n",
       "      <th>tauxEvaluation</th>\n",
       "    </tr>\n",
       "  </thead>\n",
       "  <tbody>\n",
       "    <tr>\n",
       "      <th>0</th>\n",
       "      <td>1</td>\n",
       "      <td>3</td>\n",
       "      <td>3</td>\n",
       "      <td>3.0</td>\n",
       "    </tr>\n",
       "    <tr>\n",
       "      <th>1</th>\n",
       "      <td>2</td>\n",
       "      <td>2</td>\n",
       "      <td>4</td>\n",
       "      <td>3.0</td>\n",
       "    </tr>\n",
       "    <tr>\n",
       "      <th>2</th>\n",
       "      <td>3</td>\n",
       "      <td>3</td>\n",
       "      <td>3</td>\n",
       "      <td>3.0</td>\n",
       "    </tr>\n",
       "    <tr>\n",
       "      <th>3</th>\n",
       "      <td>4</td>\n",
       "      <td>2</td>\n",
       "      <td>3</td>\n",
       "      <td>2.5</td>\n",
       "    </tr>\n",
       "    <tr>\n",
       "      <th>4</th>\n",
       "      <td>5</td>\n",
       "      <td>3</td>\n",
       "      <td>3</td>\n",
       "      <td>3.0</td>\n",
       "    </tr>\n",
       "    <tr>\n",
       "      <th>...</th>\n",
       "      <td>...</td>\n",
       "      <td>...</td>\n",
       "      <td>...</td>\n",
       "      <td>...</td>\n",
       "    </tr>\n",
       "    <tr>\n",
       "      <th>4405</th>\n",
       "      <td>4406</td>\n",
       "      <td>3</td>\n",
       "      <td>3</td>\n",
       "      <td>3.0</td>\n",
       "    </tr>\n",
       "    <tr>\n",
       "      <th>4406</th>\n",
       "      <td>4407</td>\n",
       "      <td>2</td>\n",
       "      <td>3</td>\n",
       "      <td>2.5</td>\n",
       "    </tr>\n",
       "    <tr>\n",
       "      <th>4407</th>\n",
       "      <td>4408</td>\n",
       "      <td>3</td>\n",
       "      <td>4</td>\n",
       "      <td>3.5</td>\n",
       "    </tr>\n",
       "    <tr>\n",
       "      <th>4408</th>\n",
       "      <td>4409</td>\n",
       "      <td>2</td>\n",
       "      <td>3</td>\n",
       "      <td>2.5</td>\n",
       "    </tr>\n",
       "    <tr>\n",
       "      <th>4409</th>\n",
       "      <td>4410</td>\n",
       "      <td>4</td>\n",
       "      <td>3</td>\n",
       "      <td>3.5</td>\n",
       "    </tr>\n",
       "  </tbody>\n",
       "</table>\n",
       "<p>4410 rows × 4 columns</p>\n",
       "</div>"
      ],
      "text/plain": [
       "      EmployeeID  JobInvolvement  PerformanceRating  tauxEvaluation\n",
       "0              1               3                  3             3.0\n",
       "1              2               2                  4             3.0\n",
       "2              3               3                  3             3.0\n",
       "3              4               2                  3             2.5\n",
       "4              5               3                  3             3.0\n",
       "...          ...             ...                ...             ...\n",
       "4405        4406               3                  3             3.0\n",
       "4406        4407               2                  3             2.5\n",
       "4407        4408               3                  4             3.5\n",
       "4408        4409               2                  3             2.5\n",
       "4409        4410               4                  3             3.5\n",
       "\n",
       "[4410 rows x 4 columns]"
      ]
     },
     "execution_count": 14,
     "metadata": {},
     "output_type": "execute_result"
    }
   ],
   "source": [
    "# Utilise la fonction create_average_variable pour calculer la moyenne des évaluations d'implication dans le travail (JobInvolvement)\n",
    "# et de performance annuelle (PerformanceRating) pour chaque employé. La nouvelle variable 'tauxEvaluation' est créée.\n",
    "employee_survey = create_average_variable(manager_survey, manager_survey.columns[1:], 'tauxEvaluation')\n",
    "employee_survey"
   ]
  },
  {
   "cell_type": "code",
   "execution_count": 15,
   "metadata": {},
   "outputs": [
    {
     "data": {
      "image/png": "[encoded data removed]",
      "text/plain": [
       "<Figure size 1000x600 with 1 Axes>"
      ]
     },
     "metadata": {},
     "output_type": "display_data"
    }
   ],
   "source": [
    "# Utilise la fonction create_annotated_histogram pour générer un histogramme annoté de la nouvelle variable 'tauxEvaluation'\n",
    "# Cette visualisation permet de comprendre la distribution des taux d'évaluation agrégés parmi les employés.\n",
    "create_annotated_histogram(manager_survey, manager_survey.columns[-1])\n"
   ]
  },
  {
   "cell_type": "markdown",
   "metadata": {},
   "source": [
    "==>L'histogramme annoté de la variable 'tauxEvaluation' présente une illustration graphique de la dispersion des taux d'évaluation agrégés parmi les employés. L'emplacement des annotations sur l'histogramme peut fournir des indications sur la concentration des taux d'évaluation, tendant à être centrée autour de 3, qui est approximativement équidistant de la moyenne et de la médiane. Cette disposition suggère une concentration significative des taux d'évaluation à ce niveau spécifique, indiquant une cohérence relative dans les évaluations globales des employés. Cependant, des variations peuvent être présentes, et l'analyse approfondie de cette distribution peut révéler des informations essentielles sur la diversité des performances et de l'implication au sein de l'effectif."
   ]
  },
  {
   "cell_type": "code",
   "execution_count": 21,
   "metadata": {},
   "outputs": [
    {
     "data": {
      "image/png": "[encoded data removed]",
      "text/plain": [
       "<Figure size 800x800 with 1 Axes>"
      ]
     },
     "metadata": {},
     "output_type": "display_data"
    }
   ],
   "source": [
    "# Utilise la fonction visualize_variable_pie pour générer un diagramme circulaire de la variable 'tauxEvaluation'\n",
    "# avec une classification en 4 catégories distinctes. Cela permet une visualisation claire de la répartition\n",
    "# des taux d'évaluation agrégés parmi les employés.\n",
    "visualize_variable_pie(manager_survey, manager_survey.columns[-1], num_categories=4)\n"
   ]
  },
  {
   "cell_type": "markdown",
   "metadata": {},
   "source": [
    "==>cette analyse catégorique offre une vision segmentée des taux d'évaluation agrégés, ces catégories reflètent la répartition des taux d'évaluation agrégés parmi les employés, offrant une perspective segmentée de la performance et de l'implication au sein de l'organisation."
   ]
  },
  {
   "cell_type": "markdown",
   "metadata": {},
   "source": [
    "Suppression des Colonnes Indésirables"
   ]
  },
  {
   "cell_type": "code",
   "execution_count": 17,
   "metadata": {},
   "outputs": [
    {
     "data": {
      "text/html": [
       "<div>\n",
       "<style scoped>\n",
       "    .dataframe tbody tr th:only-of-type {\n",
       "        vertical-align: middle;\n",
       "    }\n",
       "\n",
       "    .dataframe tbody tr th {\n",
       "        vertical-align: top;\n",
       "    }\n",
       "\n",
       "    .dataframe thead th {\n",
       "        text-align: right;\n",
       "    }\n",
       "</style>\n",
       "<table border=\"1\" class=\"dataframe\">\n",
       "  <thead>\n",
       "    <tr style=\"text-align: right;\">\n",
       "      <th></th>\n",
       "      <th>EmployeeID</th>\n",
       "      <th>tauxEvaluation</th>\n",
       "    </tr>\n",
       "  </thead>\n",
       "  <tbody>\n",
       "    <tr>\n",
       "      <th>0</th>\n",
       "      <td>1</td>\n",
       "      <td>3.0</td>\n",
       "    </tr>\n",
       "    <tr>\n",
       "      <th>1</th>\n",
       "      <td>2</td>\n",
       "      <td>3.0</td>\n",
       "    </tr>\n",
       "    <tr>\n",
       "      <th>2</th>\n",
       "      <td>3</td>\n",
       "      <td>3.0</td>\n",
       "    </tr>\n",
       "    <tr>\n",
       "      <th>3</th>\n",
       "      <td>4</td>\n",
       "      <td>2.5</td>\n",
       "    </tr>\n",
       "    <tr>\n",
       "      <th>4</th>\n",
       "      <td>5</td>\n",
       "      <td>3.0</td>\n",
       "    </tr>\n",
       "    <tr>\n",
       "      <th>...</th>\n",
       "      <td>...</td>\n",
       "      <td>...</td>\n",
       "    </tr>\n",
       "    <tr>\n",
       "      <th>4405</th>\n",
       "      <td>4406</td>\n",
       "      <td>3.0</td>\n",
       "    </tr>\n",
       "    <tr>\n",
       "      <th>4406</th>\n",
       "      <td>4407</td>\n",
       "      <td>2.5</td>\n",
       "    </tr>\n",
       "    <tr>\n",
       "      <th>4407</th>\n",
       "      <td>4408</td>\n",
       "      <td>3.5</td>\n",
       "    </tr>\n",
       "    <tr>\n",
       "      <th>4408</th>\n",
       "      <td>4409</td>\n",
       "      <td>2.5</td>\n",
       "    </tr>\n",
       "    <tr>\n",
       "      <th>4409</th>\n",
       "      <td>4410</td>\n",
       "      <td>3.5</td>\n",
       "    </tr>\n",
       "  </tbody>\n",
       "</table>\n",
       "<p>4410 rows × 2 columns</p>\n",
       "</div>"
      ],
      "text/plain": [
       "      EmployeeID  tauxEvaluation\n",
       "0              1             3.0\n",
       "1              2             3.0\n",
       "2              3             3.0\n",
       "3              4             2.5\n",
       "4              5             3.0\n",
       "...          ...             ...\n",
       "4405        4406             3.0\n",
       "4406        4407             2.5\n",
       "4407        4408             3.5\n",
       "4408        4409             2.5\n",
       "4409        4410             3.5\n",
       "\n",
       "[4410 rows x 2 columns]"
      ]
     },
     "execution_count": 17,
     "metadata": {},
     "output_type": "execute_result"
    }
   ],
   "source": [
    "# Crée un nouveau dataframe 'data' en supprimant les colonnes correspondant aux évaluations d'implication et de performance\n",
    "# Cela permet de se concentrer sur les données essentielles telles que l'identifiant de l'employé et la variable agrégée 'tauxEvaluation'.\n",
    "data = manager_survey.drop(manager_survey.columns[1:-1], axis=1)\n",
    "data"
   ]
  },
  {
   "cell_type": "markdown",
   "metadata": {},
   "source": [
    "* créer un nouveau dataframe appelé 'data' en éliminant les colonnes associées aux évaluations d'implication et de performance. Cette étape simplifie le dataframe pour inclure uniquement des informations essentielles telles que l'identifiant de l'employé et la variable agrégée 'tauxEvaluation', facilitant ainsi une analyse plus spécifique de ces données centrales."
   ]
  },
  {
   "cell_type": "markdown",
   "metadata": {},
   "source": [
    "### **Export Dataset**\n",
    "Exportation du DataFrame 'manager_survey' vers un fichier CSV"
   ]
  },
  {
   "cell_type": "code",
   "execution_count": 18,
   "metadata": {},
   "outputs": [],
   "source": [
    "# Exporte le dataframe 'data' vers un fichier CSV nommé 'new_manager_survey.csv' sans inclure les index.\n",
    "data.to_csv('./new_manager_survey.csv', index=False)\n"
   ]
  },
  {
   "cell_type": "code",
   "execution_count": null,
   "metadata": {},
   "outputs": [],
   "source": []
  }
 ],
 "metadata": {
  "kernelspec": {
   "display_name": "base",
   "language": "python",
   "name": "python3"
  },
  "language_info": {
   "codemirror_mode": {
    "name": "ipython",
    "version": 3
   },
   "file_extension": ".py",
   "mimetype": "text/x-python",
   "name": "python",
   "nbconvert_exporter": "python",
   "pygments_lexer": "ipython3",
   "version": "3.11.5"
  }
 },
 "nbformat": 4,
 "nbformat_minor": 2
}
